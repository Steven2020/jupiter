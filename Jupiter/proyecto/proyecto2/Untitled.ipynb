{
 "cells": [
  {
   "cell_type": "code",
   "execution_count": 1,
   "metadata": {},
   "outputs": [],
   "source": [
    "import random"
   ]
  },
  {
   "cell_type": "code",
   "execution_count": 4,
   "metadata": {
    "scrolled": true
   },
   "outputs": [
    {
     "name": "stdout",
     "output_type": "stream",
     "text": [
      "Mi mano: [0.5]\n",
      "Tengo 0.5 puntos\n",
      "¿Te plantas?: no\n",
      "Mi mano: [0.5, 6]\n",
      "Tengo 6.5 puntos\n",
      "¿Te plantas?: no\n",
      "Mi mano: [0.5, 6, 0.5]\n",
      "Tengo 7.0 puntos\n",
      "¿Te plantas?: no\n",
      "Mi mano: [0.5, 6, 0.5, 1]\n",
      "Tengo 8.0 puntos\n",
      "Has perdido con 8.0\n",
      "¿Te plantas?: no\n"
     ]
    }
   ],
   "source": [
    "# Variables\n",
    "LIMITE = 7.5\n",
    "baraja = [1, 2, 3, 4, 5, 6, 7, 0.5, 0.5, 0.5] * 4\n",
    "mano = []\n",
    "mano1 = []\n",
    "play = True\n",
    "\n",
    "# Logica\n",
    "while play:\n",
    "    # Pide y guarda el numero\n",
    "    posicion_aleatoria = random.randint(0, len(baraja) - 1)\n",
    "    carta_aletatorio = baraja.pop(posicion_aleatoria)\n",
    "    mano.append(carta_aletatorio)\n",
    "    print('Mi mano: {mano}'.format(mano=mano))\n",
    "\n",
    "    # Sumamos mi mano\n",
    "    suma_total = 0\n",
    "    for carta in mano:\n",
    "        suma_total += carta\n",
    "\n",
    "    print('Tengo {total} puntos'.format(total=suma_total))\n",
    "    \n",
    "    if suma_total > LIMITE:\n",
    "        print('Has perdido con {total}'.format(total=suma_total))\n",
    "        play = False\n",
    "    elif suma_total == LIMITE:\n",
    "        print('Has ganado!!!')\n",
    "        play = False\n",
    "    # Preguntar si nos queremos plantar\n",
    "    respuesta = input('¿Te plantas?: ')\n",
    "    \n",
    "    if respuesta == 'si':\n",
    "        play = False\n",
    "    "
   ]
  },
  {
   "cell_type": "code",
   "execution_count": null,
   "metadata": {},
   "outputs": [],
   "source": []
  },
  {
   "cell_type": "code",
   "execution_count": null,
   "metadata": {},
   "outputs": [],
   "source": []
  }
 ],
 "metadata": {
  "kernelspec": {
   "display_name": "Python 3",
   "language": "python",
   "name": "python3"
  },
  "language_info": {
   "codemirror_mode": {
    "name": "ipython",
    "version": 3
   },
   "file_extension": ".py",
   "mimetype": "text/x-python",
   "name": "python",
   "nbconvert_exporter": "python",
   "pygments_lexer": "ipython3",
   "version": "3.8.2"
  }
 },
 "nbformat": 4,
 "nbformat_minor": 4
}

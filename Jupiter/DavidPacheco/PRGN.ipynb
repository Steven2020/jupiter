{
 "cells": [
  {
   "cell_type": "code",
   "execution_count": 1,
   "metadata": {},
   "outputs": [
    {
     "name": "stdout",
     "output_type": "stream",
     "text": [
      "Ingrese semilla: 7\n",
      "Ingrese  el número del multiplicador: 5\n",
      "Ingrese  el aditivo constante: 3\n",
      "Ingrese cantidad de datos a obtener: 16\n",
      "6\n",
      "1    0.0625\n",
      "8    0.5\n",
      "11    0.6875\n",
      "10    0.625\n",
      "5    0.3125\n",
      "12    0.75\n",
      "15    0.9375\n",
      "14    0.875\n",
      "9    0.5625\n",
      "0    0.0\n",
      "3    0.1875\n",
      "2    0.125\n",
      "13    0.8125\n",
      "4    0.25\n",
      "7    0.4375\n"
     ]
    }
   ],
   "source": [
    "#Nombre: David Steven Pacheco Calle\n",
    "#Ciclo: 6to \"A\"\n",
    "class  PRGN:\n",
    "  semilla =  int(input(\"Ingrese semilla: \"))\n",
    "  multiplicador =  int(input(\"Ingrese  el número del multiplicador: \"))\n",
    "  constante =  int(input(\"Ingrese  el aditivo constante: \"))\n",
    "  numT =  int(input(\"Ingrese cantidad de datos a obtener: \"))\n",
    "  def value(self, x):\n",
    "    r = ( ((self.multiplicador * x) + self.constante) % self.numT)\n",
    "    \n",
    "    return r\n",
    "    #return ( ((self.multiplicador * x) + self.constante) % self.numT)\n",
    "  def Xn(self):\n",
    "    x = self.value(self.semilla)\n",
    "    print (x)\n",
    "    while (x != self.semilla):\n",
    "      x = self.value(x)\n",
    "      p = x\n",
    "      u = p/self.numT\n",
    "      print (x,'  ',u)\n",
    "\n",
    "prgn =  PRGN()\n",
    "prgn.Xn()"
   ]
  },
  {
   "cell_type": "code",
   "execution_count": null,
   "metadata": {},
   "outputs": [],
   "source": []
  }
 ],
 "metadata": {
  "kernelspec": {
   "display_name": "Python 3",
   "language": "python",
   "name": "python3"
  },
  "language_info": {
   "codemirror_mode": {
    "name": "ipython",
    "version": 3
   },
   "file_extension": ".py",
   "mimetype": "text/x-python",
   "name": "python",
   "nbconvert_exporter": "python",
   "pygments_lexer": "ipython3",
   "version": "3.8.2"
  }
 },
 "nbformat": 4,
 "nbformat_minor": 4
}

{
 "cells": [
  {
   "cell_type": "code",
   "execution_count": 1,
   "metadata": {},
   "outputs": [
    {
     "name": "stdout",
     "output_type": "stream",
     "text": [
      "Introduce el valor de la semilla: 7\n",
      "Introduce el valor del multiplicador: 5\n",
      "Introduce el valor de la constante aditiva: 2\n",
      "Introduce el valor del modulo: 16\n",
      "5 --- 0.3125\n",
      "11 --- 0.6875\n",
      "9 --- 0.5625\n",
      "15 --- 0.9375\n",
      "13 --- 0.8125\n",
      "3 --- 0.1875\n",
      "1 --- 0.0625\n",
      "7 --- 0.4375\n",
      "El periodo es incompleto: 8\n"
     ]
    }
   ],
   "source": [
    "def mixedMethod(x, a, c, mod):\n",
    " \n",
    "    periodo = 0\n",
    "    bandera = 0\n",
    " \n",
    "    while(bandera != x):\n",
    "        if (periodo == 0):\n",
    "            bandera = x\n",
    "        x = (a * x + c) % mod\n",
    "        o = x / mod\n",
    "        print(x,'---',o)\n",
    "        periodo = periodo + 1\n",
    " \n",
    "    if(periodo == mod):\n",
    "        print(\"El periodo es completo: \", periodo)\n",
    "    else:\n",
    "        print(\"El periodo es incompleto:\", periodo)\n",
    " \n",
    "def main():\n",
    "    x = int(input(\"Introduce el valor de la semilla: \"))\n",
    "    a = int(input(\"Introduce el valor del multiplicador: \"))\n",
    "    c = int(input(\"Introduce el valor de la constante aditiva: \"))\n",
    "    m = int(input(\"Introduce el valor del modulo: \"))\n",
    "    mixedMethod(x,a,c,m)\n",
    " \n",
    "if __name__=='__main__':\n",
    "    main()"
   ]
  },
  {
   "cell_type": "code",
   "execution_count": 9,
   "metadata": {},
   "outputs": [
    {
     "name": "stdout",
     "output_type": "stream",
     "text": [
      "Ingrese semilla: 7\n",
      "Ingrese  el número del multiplicador: 5\n",
      "Ingrese  el aditivo constante: 2\n",
      "Ingrese cantidad de datos a obtener: 16\n",
      "5\n",
      "11    0.6875\n",
      "9    0.5625\n",
      "15    0.9375\n",
      "13    0.8125\n",
      "3    0.1875\n",
      "1    0.0625\n",
      "7    0.4375\n"
     ]
    }
   ],
   "source": [
    "class  PRGN:\n",
    "  semilla =  int(input(\"Ingrese semilla: \"))\n",
    "  multiplicador =  int(input(\"Ingrese  el número del multiplicador: \"))\n",
    "  constante =  int(input(\"Ingrese  el aditivo constante: \"))\n",
    "  numT =  int(input(\"Ingrese cantidad de datos a obtener: \"))\n",
    "  def value(self, x):\n",
    "    r = ( ((self.multiplicador * x) + self.constante) % self.numT)\n",
    "    \n",
    "    return r\n",
    "    #return ( ((self.multiplicador * x) + self.constante) % self.numT)\n",
    "  def Xn(self):\n",
    "    x = self.value(self.semilla)\n",
    "    print (x)\n",
    "    while (x != self.semilla):\n",
    "      x = self.value(x)\n",
    "      p = x\n",
    "      u = p/self.numT\n",
    "      print (x,'  ',u)\n",
    "\n",
    "prgn =  PRGN()\n",
    "prgn.Xn()"
   ]
  },
  {
   "cell_type": "code",
   "execution_count": 10,
   "metadata": {},
   "outputs": [],
   "source": [
    "lista=[9,8,10,7,90]"
   ]
  },
  {
   "cell_type": "code",
   "execution_count": 11,
   "metadata": {},
   "outputs": [
    {
     "name": "stdout",
     "output_type": "stream",
     "text": [
      "[7, 8, 9, 10, 90]\n"
     ]
    }
   ],
   "source": [
    "print(sorted(lista))"
   ]
  },
  {
   "cell_type": "code",
   "execution_count": 12,
   "metadata": {},
   "outputs": [],
   "source": [
    "c = sorted(lista)"
   ]
  },
  {
   "cell_type": "code",
   "execution_count": 13,
   "metadata": {},
   "outputs": [
    {
     "ename": "SyntaxError",
     "evalue": "Missing parentheses in call to 'print'. Did you mean print(c)? (<ipython-input-13-1b1d2b33e8c2>, line 1)",
     "output_type": "error",
     "traceback": [
      "\u001b[0;36m  File \u001b[0;32m\"<ipython-input-13-1b1d2b33e8c2>\"\u001b[0;36m, line \u001b[0;32m1\u001b[0m\n\u001b[0;31m    print c\u001b[0m\n\u001b[0m          ^\u001b[0m\n\u001b[0;31mSyntaxError\u001b[0m\u001b[0;31m:\u001b[0m Missing parentheses in call to 'print'. Did you mean print(c)?\n"
     ]
    }
   ],
   "source": [
    "print c"
   ]
  },
  {
   "cell_type": "code",
   "execution_count": 14,
   "metadata": {},
   "outputs": [
    {
     "name": "stdout",
     "output_type": "stream",
     "text": [
      "[7, 8, 9, 10, 90]\n"
     ]
    }
   ],
   "source": [
    "print(c)"
   ]
  },
  {
   "cell_type": "code",
   "execution_count": null,
   "metadata": {},
   "outputs": [],
   "source": [
    "v="
   ]
  }
 ],
 "metadata": {
  "kernelspec": {
   "display_name": "Python 3",
   "language": "python",
   "name": "python3"
  },
  "language_info": {
   "codemirror_mode": {
    "name": "ipython",
    "version": 3
   },
   "file_extension": ".py",
   "mimetype": "text/x-python",
   "name": "python",
   "nbconvert_exporter": "python",
   "pygments_lexer": "ipython3",
   "version": "3.8.2"
  }
 },
 "nbformat": 4,
 "nbformat_minor": 4
}

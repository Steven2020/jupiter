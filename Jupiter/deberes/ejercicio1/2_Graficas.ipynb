{
 "cells": [
  {
   "cell_type": "code",
   "execution_count": 3,
   "metadata": {},
   "outputs": [],
   "source": [
    "import pandas as pd\n",
    "import seaborn as sns\n",
    "import numpy as np\n",
    "import matplotlib.pyplot as plt\n"
   ]
  },
  {
   "cell_type": "code",
   "execution_count": 4,
   "metadata": {},
   "outputs": [],
   "source": [
    "#Eduardo Alexander Leon Castillo - Sexto A\n",
    "df = pd.read_csv('C:\\\\Users\\\\EALC\\\\Desktop\\\\ALEXANDER\\\\sexto\\\\Simulacion\\\\sabado\\\\TestGenerationNumeros\\\\set-prgn-.csv', sep='\\t')"
   ]
  },
  {
   "cell_type": "code",
   "execution_count": 5,
   "metadata": {},
   "outputs": [],
   "source": [
    "x = df.head(11)"
   ]
  },
  {
   "cell_type": "code",
   "execution_count": 6,
   "metadata": {},
   "outputs": [
    {
     "data": {
      "text/html": [
       "<div>\n",
       "<style scoped>\n",
       "    .dataframe tbody tr th:only-of-type {\n",
       "        vertical-align: middle;\n",
       "    }\n",
       "\n",
       "    .dataframe tbody tr th {\n",
       "        vertical-align: top;\n",
       "    }\n",
       "\n",
       "    .dataframe thead th {\n",
       "        text-align: right;\n",
       "    }\n",
       "</style>\n",
       "<table border=\"1\" class=\"dataframe\">\n",
       "  <thead>\n",
       "    <tr style=\"text-align: right;\">\n",
       "      <th></th>\n",
       "      <th>41</th>\n",
       "      <th>57</th>\n",
       "      <th>66</th>\n",
       "      <th>90</th>\n",
       "      <th>40</th>\n",
       "      <th>Unnamed: 5</th>\n",
       "      <th>Intervalos</th>\n",
       "      <th>Oi</th>\n",
       "      <th>Ei</th>\n",
       "      <th>Unnamed: 9</th>\n",
       "    </tr>\n",
       "  </thead>\n",
       "  <tbody>\n",
       "    <tr>\n",
       "      <th>0</th>\n",
       "      <td>5</td>\n",
       "      <td>97</td>\n",
       "      <td>55</td>\n",
       "      <td>53</td>\n",
       "      <td>93</td>\n",
       "      <td>NaN</td>\n",
       "      <td>0-,10</td>\n",
       "      <td>10.0</td>\n",
       "      <td>10</td>\n",
       "      <td>0,1</td>\n",
       "    </tr>\n",
       "    <tr>\n",
       "      <th>1</th>\n",
       "      <td>92</td>\n",
       "      <td>46</td>\n",
       "      <td>60</td>\n",
       "      <td>1</td>\n",
       "      <td>29</td>\n",
       "      <td>NaN</td>\n",
       "      <td>,10-,20</td>\n",
       "      <td>15.0</td>\n",
       "      <td>10</td>\n",
       "      <td>2,5</td>\n",
       "    </tr>\n",
       "    <tr>\n",
       "      <th>2</th>\n",
       "      <td>81</td>\n",
       "      <td>81</td>\n",
       "      <td>5</td>\n",
       "      <td>99</td>\n",
       "      <td>96</td>\n",
       "      <td>NaN</td>\n",
       "      <td>,20-,30</td>\n",
       "      <td>7.0</td>\n",
       "      <td>10</td>\n",
       "      <td>1,6</td>\n",
       "    </tr>\n",
       "    <tr>\n",
       "      <th>3</th>\n",
       "      <td>92</td>\n",
       "      <td>26</td>\n",
       "      <td>52</td>\n",
       "      <td>12</td>\n",
       "      <td>61</td>\n",
       "      <td>NaN</td>\n",
       "      <td>,30-,40</td>\n",
       "      <td>13.0</td>\n",
       "      <td>10</td>\n",
       "      <td>0,1</td>\n",
       "    </tr>\n",
       "    <tr>\n",
       "      <th>4</th>\n",
       "      <td>34</td>\n",
       "      <td>37</td>\n",
       "      <td>58</td>\n",
       "      <td>31</td>\n",
       "      <td>95</td>\n",
       "      <td>NaN</td>\n",
       "      <td>,40-,50</td>\n",
       "      <td>5.0</td>\n",
       "      <td>10</td>\n",
       "      <td>2,5</td>\n",
       "    </tr>\n",
       "    <tr>\n",
       "      <th>5</th>\n",
       "      <td>5</td>\n",
       "      <td>12</td>\n",
       "      <td>18</td>\n",
       "      <td>21</td>\n",
       "      <td>54</td>\n",
       "      <td>NaN</td>\n",
       "      <td>,50-,60</td>\n",
       "      <td>13.0</td>\n",
       "      <td>10</td>\n",
       "      <td>0,1</td>\n",
       "    </tr>\n",
       "    <tr>\n",
       "      <th>6</th>\n",
       "      <td>61</td>\n",
       "      <td>17</td>\n",
       "      <td>57</td>\n",
       "      <td>72</td>\n",
       "      <td>44</td>\n",
       "      <td>NaN</td>\n",
       "      <td>,60-,70</td>\n",
       "      <td>7.0</td>\n",
       "      <td>10</td>\n",
       "      <td>0,9</td>\n",
       "    </tr>\n",
       "    <tr>\n",
       "      <th>7</th>\n",
       "      <td>66</td>\n",
       "      <td>45</td>\n",
       "      <td>95</td>\n",
       "      <td>52</td>\n",
       "      <td>15</td>\n",
       "      <td>NaN</td>\n",
       "      <td>,70-,80</td>\n",
       "      <td>8.0</td>\n",
       "      <td>10</td>\n",
       "      <td>0,9</td>\n",
       "    </tr>\n",
       "    <tr>\n",
       "      <th>8</th>\n",
       "      <td>25</td>\n",
       "      <td>10</td>\n",
       "      <td>80</td>\n",
       "      <td>16</td>\n",
       "      <td>53</td>\n",
       "      <td>NaN</td>\n",
       "      <td>,80-,90</td>\n",
       "      <td>11.0</td>\n",
       "      <td>10</td>\n",
       "      <td>0,1</td>\n",
       "    </tr>\n",
       "    <tr>\n",
       "      <th>9</th>\n",
       "      <td>8</td>\n",
       "      <td>76</td>\n",
       "      <td>49</td>\n",
       "      <td>60</td>\n",
       "      <td>31</td>\n",
       "      <td>NaN</td>\n",
       "      <td>,90-1</td>\n",
       "      <td>11.0</td>\n",
       "      <td>10</td>\n",
       "      <td>0,1</td>\n",
       "    </tr>\n",
       "    <tr>\n",
       "      <th>10</th>\n",
       "      <td>75</td>\n",
       "      <td>38</td>\n",
       "      <td>31</td>\n",
       "      <td>18</td>\n",
       "      <td>19</td>\n",
       "      <td>NaN</td>\n",
       "      <td>NaN</td>\n",
       "      <td>NaN</td>\n",
       "      <td>NaN</td>\n",
       "      <td>NaN</td>\n",
       "    </tr>\n",
       "  </tbody>\n",
       "</table>\n",
       "</div>"
      ],
      "text/plain": [
       "    41  57  66  90  40  Unnamed: 5 Intervalos    Oi   Ei Unnamed: 9\n",
       "0    5  97  55  53  93         NaN      0-,10  10.0   10        0,1\n",
       "1   92  46  60   1  29         NaN    ,10-,20  15.0   10        2,5\n",
       "2   81  81   5  99  96         NaN    ,20-,30   7.0   10        1,6\n",
       "3   92  26  52  12  61         NaN    ,30-,40  13.0   10        0,1\n",
       "4   34  37  58  31  95         NaN    ,40-,50   5.0   10        2,5\n",
       "5    5  12  18  21  54         NaN    ,50-,60  13.0   10        0,1\n",
       "6   61  17  57  72  44         NaN    ,60-,70   7.0   10        0,9\n",
       "7   66  45  95  52  15         NaN    ,70-,80   8.0   10        0,9\n",
       "8   25  10  80  16  53         NaN    ,80-,90  11.0   10        0,1\n",
       "9    8  76  49  60  31         NaN      ,90-1  11.0   10        0,1\n",
       "10  75  38  31  18  19         NaN        NaN   NaN  NaN        NaN"
      ]
     },
     "execution_count": 6,
     "metadata": {},
     "output_type": "execute_result"
    }
   ],
   "source": [
    "x"
   ]
  },
  {
   "cell_type": "code",
   "execution_count": 7,
   "metadata": {},
   "outputs": [],
   "source": [
    "#x = df['Oi'].value_counts()"
   ]
  },
  {
   "cell_type": "code",
   "execution_count": 8,
   "metadata": {
    "scrolled": true
   },
   "outputs": [],
   "source": [
    "#x"
   ]
  },
  {
   "cell_type": "code",
   "execution_count": 9,
   "metadata": {},
   "outputs": [],
   "source": [
    "#total = df['Oi'].sum()\n"
   ]
  },
  {
   "cell_type": "code",
   "execution_count": 10,
   "metadata": {},
   "outputs": [],
   "source": [
    "#total"
   ]
  },
  {
   "cell_type": "code",
   "execution_count": 13,
   "metadata": {},
   "outputs": [
    {
     "data": {
      "image/png": "[encoded data removed]",
      "text/plain": [
       "<Figure size 432x288 with 2 Axes>"
      ]
     },
     "metadata": {
      "needs_background": "light"
     },
     "output_type": "display_data"
    }
   ],
   "source": [
    "f, (ax_box, ax_hist) = plt.subplots(2, sharex=True, gridspec_kw={\"height_ratios\": (.15, .85)})\n",
    " \n",
    "\n",
    "sns.boxplot(df[\"Oi\"], ax=ax_box)\n",
    "sns.distplot(df[\"Oi\"], ax=ax_hist)\n",
    " \n",
    "\n",
    "ax_box.set(yticks=[])\n",
    "sns.despine(ax=ax_hist)\n",
    "sns.despine(ax=ax_box, left=True)\n"
   ]
  },
  {
   "cell_type": "code",
   "execution_count": null,
   "metadata": {},
   "outputs": [],
   "source": []
  }
 ],
 "metadata": {
  "kernelspec": {
   "display_name": "Python 3",
   "language": "python",
   "name": "python3"
  },
  "language_info": {
   "codemirror_mode": {
    "name": "ipython",
    "version": 3
   },
   "file_extension": ".py",
   "mimetype": "text/x-python",
   "name": "python",
   "nbconvert_exporter": "python",
   "pygments_lexer": "ipython3",
   "version": "3.8.2"
  }
 },
 "nbformat": 4,
 "nbformat_minor": 4
}

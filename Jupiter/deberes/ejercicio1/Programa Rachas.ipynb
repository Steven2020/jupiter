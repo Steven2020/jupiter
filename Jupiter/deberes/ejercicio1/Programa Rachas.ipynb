{
 "cells": [
  {
   "cell_type": "code",
   "execution_count": 1,
   "metadata": {},
   "outputs": [],
   "source": [
    "import pandas as pd\n",
    "import numpy as np"
   ]
  },
  {
   "cell_type": "code",
   "execution_count": 2,
   "metadata": {},
   "outputs": [],
   "source": [
    "df = pd.read_csv('ejm1.csv')"
   ]
  },
  {
   "cell_type": "code",
   "execution_count": 3,
   "metadata": {},
   "outputs": [],
   "source": [
    "array =np.asarray(df)"
   ]
  },
  {
   "cell_type": "code",
   "execution_count": 4,
   "metadata": {},
   "outputs": [
    {
     "name": "stdout",
     "output_type": "stream",
     "text": [
      "N =  100\n",
      "Media =  49.07\n",
      "Desviacion Standar =  29.931657846068955\n",
      "MInimo =  [1]\n",
      "Maximo =  [99]\n"
     ]
    }
   ],
   "source": [
    "#N poblacion\n",
    "n=100\n",
    "print('N = ',n)\n",
    "#Media\n",
    "media = df[\"a\"].mean()\n",
    "print('Media = ',media)\n",
    "#desviacion Standar\n",
    "des = (df[\"a\"].std())\n",
    "print('Desviacion Standar = ',des)\n",
    "#Minimo\n",
    "mini = min(array)\n",
    "print('MInimo = ',mini)\n",
    "#Maximo\n",
    "maxi = max(array)\n",
    "print('Maximo = ',maxi)\n",
    "alfa = 0.5"
   ]
  },
  {
   "cell_type": "code",
   "execution_count": 5,
   "metadata": {},
   "outputs": [
    {
     "name": "stdout",
     "output_type": "stream",
     "text": [
      "['-', '-', '+', '+', '+', '-', '-', '+', '+', '-', '-', '+', '-', '+', '+', '-', '-', '-', '+', '+', '+', '+', '-', '+', '-', '-', '-', '-', '-', '-', '+', '-', '+', '-', '+', '+', '-', '-', '-', '-', '+', '+', '+', '-', '+', '+', '-', '+', '+', '+', '-', '-', '-', '-', '-', '+', '-', '+', '-', '-', '+', '+', '-', '+', '-', '-', '-', '+', '+', '-', '+', '-', '-', '+', '+', '+', '+', '-', '-', '+', '-', '+', '-', '+', '+', '+', '+', '-', '-', '+', '-', '-', '+', '+', '+', '+', '+', '-', '-', '+']\n"
     ]
    }
   ],
   "source": [
    "#calcular los simbolos de las Rachas condicional\n",
    "aux_mas = 0\n",
    "aux_menos = 0\n",
    "rachas =[]\n",
    "for i in range(0,len(df)):\n",
    "    if (array[i] >= media):\n",
    "        aux_mas = aux_mas + 1\n",
    "        rachas.append('+')\n",
    "    else:\n",
    "        aux_menos = aux_menos + 1\n",
    "        rachas.append('-')\n",
    "        \n",
    "print(rachas)"
   ]
  },
  {
   "cell_type": "code",
   "execution_count": 7,
   "metadata": {},
   "outputs": [
    {
     "name": "stdout",
     "output_type": "stream",
     "text": [
      "Rachas mas:  [3, 2, 1, 2, 4, 1, 1, 1, 2, 3, 2, 3, 1, 1, 2, 1, 2, 1, 4, 1, 1, 4, 1, 5]\n",
      "Rachas menos:  [2, 2, 2, 1, 3, 1, 6, 1, 1, 4, 1, 1, 5, 1, 2, 1, 3, 1, 2, 2, 1, 1, 2, 2, 2]\n"
     ]
    }
   ],
   "source": [
    "#Separar las rachas mas menos en arreglos auxiliares\n",
    "cont_menos = 0\n",
    "cont_mas = 0\n",
    "aux_rachas_mas = []\n",
    "aux_rachas_menos = []\n",
    "\n",
    "for i in range(0,len(df)):\n",
    "    if rachas[i] == \"-\":\n",
    "        cont_menos = cont_menos + 1\n",
    "       # if i < 99:\n",
    "        if rachas[i + 1] == \"+\":\n",
    "                aux_rachas_menos.append(cont_menos)\n",
    "                cont_menos = 0        \n",
    "    else:\n",
    "        cont_mas = cont_mas + 1\n",
    "        #print(i)\n",
    "        if i + 1 < 100:\n",
    "            if (rachas[i + 1] == \"-\"):\n",
    "                aux_rachas_mas.append(cont_mas)\n",
    "                cont_mas = 0\n",
    "        \n",
    "\n",
    "print(\"Rachas mas: \",aux_rachas_mas)\n",
    "print(\"Rachas menos: \",aux_rachas_menos)"
   ]
  },
  {
   "cell_type": "code",
   "execution_count": 8,
   "metadata": {},
   "outputs": [
    {
     "name": "stdout",
     "output_type": "stream",
     "text": [
      "Rachas positivas\n"
     ]
    },
    {
     "data": {
      "text/plain": [
       "[1, 2, 3, 4, 5]"
      ]
     },
     "execution_count": 8,
     "metadata": {},
     "output_type": "execute_result"
    }
   ],
   "source": [
    "#Rachas positivas\n",
    "print(\"Rachas positivas\")\n",
    "list(set(aux_rachas_mas))"
   ]
  },
  {
   "cell_type": "code",
   "execution_count": 9,
   "metadata": {},
   "outputs": [
    {
     "name": "stdout",
     "output_type": "stream",
     "text": [
      "Rachas Negativas\n"
     ]
    },
    {
     "data": {
      "text/plain": [
       "[1, 2, 3, 4, 5, 6]"
      ]
     },
     "execution_count": 9,
     "metadata": {},
     "output_type": "execute_result"
    }
   ],
   "source": [
    "#Rachas negativas\n",
    "print(\"Rachas Negativas\")\n",
    "list(set(aux_rachas_menos))"
   ]
  },
  {
   "cell_type": "code",
   "execution_count": 11,
   "metadata": {},
   "outputs": [
    {
     "name": "stdout",
     "output_type": "stream",
     "text": [
      "Total Rachas:  11\n"
     ]
    }
   ],
   "source": [
    "#total de rachas\n",
    "tot= len(list(set(aux_rachas_mas)))+len(list(set(aux_rachas_menos)))\n",
    "print(\"Total Rachas: \",tot)"
   ]
  },
  {
   "cell_type": "code",
   "execution_count": null,
   "metadata": {},
   "outputs": [],
   "source": []
  }
 ],
 "metadata": {
  "kernelspec": {
   "display_name": "Python 3",
   "language": "python",
   "name": "python3"
  },
  "language_info": {
   "codemirror_mode": {
    "name": "ipython",
    "version": 3
   },
   "file_extension": ".py",
   "mimetype": "text/x-python",
   "name": "python",
   "nbconvert_exporter": "python",
   "pygments_lexer": "ipython3",
   "version": "3.8.2"
  }
 },
 "nbformat": 4,
 "nbformat_minor": 4
}

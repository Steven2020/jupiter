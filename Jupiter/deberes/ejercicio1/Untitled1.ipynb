{
 "cells": [
  {
   "cell_type": "code",
   "execution_count": 2,
   "metadata": {},
   "outputs": [],
   "source": [
    "# David Steven Pacheco Calle\n",
    "# Prueva de Rachas\n",
    "import pandas as pd\n",
    "import numpy as np"
   ]
  },
  {
   "cell_type": "code",
   "execution_count": 3,
   "metadata": {},
   "outputs": [],
   "source": [
    "df = pd.read_csv('ejm1.csv')"
   ]
  },
  {
   "cell_type": "code",
   "execution_count": 4,
   "metadata": {},
   "outputs": [],
   "source": [
    "array =np.asarray(df)"
   ]
  },
  {
   "cell_type": "code",
   "execution_count": 5,
   "metadata": {},
   "outputs": [
    {
     "name": "stdout",
     "output_type": "stream",
     "text": [
      "N =  100\n",
      "Media =  49.07\n",
      "Desviacion Standar =  29.931657846068955\n",
      "MInimo =  [1]\n",
      "Maximo =  [99]\n"
     ]
    }
   ],
   "source": [
    "#N poblacion\n",
    "n=100\n",
    "print('N = ',n)\n",
    "#Media\n",
    "media = df[\"a\"].mean()\n",
    "print('Media = ',media)\n",
    "#desviacion Standar\n",
    "des = (df[\"a\"].std())\n",
    "print('Desviacion Standar = ',des)\n",
    "#Minimo\n",
    "mini = min(array)\n",
    "print('MInimo = ',mini)\n",
    "#Maximo\n",
    "maxi = max(array)\n",
    "print('Maximo = ',maxi)\n",
    "alfa = 0.5\n"
   ]
  },
  {
   "cell_type": "code",
   "execution_count": null,
   "metadata": {},
   "outputs": [],
   "source": []
  },
  {
   "cell_type": "code",
   "execution_count": 6,
   "metadata": {
    "scrolled": false
   },
   "outputs": [
    {
     "name": "stdout",
     "output_type": "stream",
     "text": [
      "['menos', 'menos', 'mas', 'mas', 'mas', 'menos', 'menos', 'mas', 'mas', 'menos', 'menos', 'mas', 'menos', 'mas', 'mas', 'menos', 'menos', 'menos', 'mas', 'mas', 'mas', 'mas', 'menos', 'mas', 'menos', 'menos', 'menos', 'menos', 'menos', 'menos', 'mas', 'menos', 'mas', 'menos', 'mas', 'mas', 'menos', 'menos', 'menos', 'menos', 'mas', 'mas', 'mas', 'menos', 'mas', 'mas', 'menos', 'mas', 'mas', 'mas', 'menos', 'menos', 'menos', 'menos', 'menos', 'mas', 'menos', 'mas', 'menos', 'menos', 'mas', 'mas', 'menos', 'mas', 'menos', 'menos', 'menos', 'mas', 'mas', 'menos', 'mas', 'menos', 'menos', 'mas', 'mas', 'mas', 'mas', 'menos', 'menos', 'mas', 'menos', 'mas', 'menos', 'mas', 'mas', 'mas', 'mas', 'menos', 'menos', 'mas', 'menos', 'menos', 'mas', 'mas', 'mas', 'mas', 'mas', 'menos', 'menos', 'mas']\n"
     ]
    }
   ],
   "source": [
    "#print(\"Numero\",\"Numeros_cal\",\"media\")\n",
    "aux_mas = 0\n",
    "aux_menos = 0\n",
    "rachas =[]\n",
    "for i in range(0,len(df)):\n",
    "    if (array[i] >= media):\n",
    "        aux_mas = aux_mas + 1\n",
    "        #print(array[a], media,\"+\")\n",
    "        rachas.append('mas')\n",
    "    else:\n",
    "        aux_menos = aux_menos + 1\n",
    "        #print(array[i],  media,\"-\")\n",
    "        rachas.append('menos')\n",
    "        \n",
    "\n",
    "        #print(aux_mas)\n",
    "#print(aux_menos)\n",
    "print(rachas)\n",
    "#rachas.count()"
   ]
  },
  {
   "cell_type": "code",
   "execution_count": 7,
   "metadata": {},
   "outputs": [
    {
     "name": "stdout",
     "output_type": "stream",
     "text": [
      "Rachas mas:  [3, 2, 1, 2, 4, 1, 1, 1, 2, 3, 2, 3, 1, 1, 2, 1, 2, 1, 4, 1, 1, 4, 1, 5]\n",
      "Rachas menos:  [2, 2, 2, 1, 3, 1, 6, 1, 1, 4, 1, 1, 5, 1, 2, 1, 3, 1, 2, 2, 1, 1, 2, 2, 2]\n"
     ]
    }
   ],
   "source": [
    "cont_menos = 0\n",
    "cont_mas = 0\n",
    "aux_rachas_mas = []\n",
    "aux_rachas_menos = []\n",
    "\n",
    "for i in range(0,len(df)):\n",
    "    if rachas[i] == \"menos\":\n",
    "        cont_menos = cont_menos + 1\n",
    "       # if i < 99:\n",
    "        if rachas[i + 1] == \"mas\":\n",
    "                aux_rachas_menos.append(cont_menos)\n",
    "                cont_menos = 0        \n",
    "    else:\n",
    "        cont_mas = cont_mas + 1\n",
    "        #print(i)\n",
    "        if i + 1 < 100:\n",
    "            if (rachas[i + 1] == \"menos\"):\n",
    "                aux_rachas_mas.append(cont_mas)\n",
    "                cont_mas = 0\n",
    "        \n",
    "\n",
    "print(\"Rachas mas: \",aux_rachas_mas)\n",
    "print(\"Rachas menos: \",aux_rachas_menos)"
   ]
  },
  {
   "cell_type": "code",
   "execution_count": 8,
   "metadata": {},
   "outputs": [
    {
     "name": "stdout",
     "output_type": "stream",
     "text": [
      "Rachas positivas\n"
     ]
    },
    {
     "data": {
      "text/plain": [
       "[1, 2, 3, 4, 5]"
      ]
     },
     "execution_count": 8,
     "metadata": {},
     "output_type": "execute_result"
    }
   ],
   "source": [
    "#Rachas positivas\n",
    "print(\"Rachas positivas\")\n",
    "list(set(aux_rachas_mas))"
   ]
  },
  {
   "cell_type": "code",
   "execution_count": 9,
   "metadata": {},
   "outputs": [
    {
     "name": "stdout",
     "output_type": "stream",
     "text": [
      "Rachas Negativas\n"
     ]
    },
    {
     "data": {
      "text/plain": [
       "[1, 2, 3, 4, 5, 6]"
      ]
     },
     "execution_count": 9,
     "metadata": {},
     "output_type": "execute_result"
    }
   ],
   "source": [
    "#Rachas negativas\n",
    "print(\"Rachas Negativas\")\n",
    "list(set(aux_rachas_menos))"
   ]
  },
  {
   "cell_type": "code",
   "execution_count": 13,
   "metadata": {},
   "outputs": [
    {
     "name": "stdout",
     "output_type": "stream",
     "text": [
      "Total 11\n"
     ]
    }
   ],
   "source": [
    "#total de rachas\n",
    "a = len(list(set(aux_rachas_mas)))+len(list(set(aux_rachas_menos)))\n",
    "print(\"Total\",a)\n",
    "varianza = pow(des, 2)"
   ]
  },
  {
   "cell_type": "code",
   "execution_count": 16,
   "metadata": {},
   "outputs": [
    {
     "name": "stdout",
     "output_type": "stream",
     "text": [
      "Valor de Z=  | -0.04249338544178215 |\n"
     ]
    }
   ],
   "source": [
    "#Prueva de Rachas Ascendentes y Desendentes\n",
    "z = ((a - media)/varianza)\n",
    "print(\"Valor de Z= \",\"|\",z,\"|\")\n",
    "# Se rechaza H0 si el valor de |z| => z1"
   ]
  },
  {
   "cell_type": "code",
   "execution_count": null,
   "metadata": {},
   "outputs": [],
   "source": []
  },
  {
   "cell_type": "code",
   "execution_count": null,
   "metadata": {},
   "outputs": [],
   "source": []
  }
 ],
 "metadata": {
  "kernelspec": {
   "display_name": "Python 3",
   "language": "python",
   "name": "python3"
  },
  "language_info": {
   "codemirror_mode": {
    "name": "ipython",
    "version": 3
   },
   "file_extension": ".py",
   "mimetype": "text/x-python",
   "name": "python",
   "nbconvert_exporter": "python",
   "pygments_lexer": "ipython3",
   "version": "3.8.2"
  }
 },
 "nbformat": 4,
 "nbformat_minor": 4
}

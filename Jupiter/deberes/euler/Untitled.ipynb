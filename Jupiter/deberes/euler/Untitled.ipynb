{
 "cells": [
  {
   "cell_type": "code",
   "execution_count": 1,
   "metadata": {},
   "outputs": [],
   "source": [
    "import numpy as np\n",
    "import matplotlib.pyplot as plt\n",
    "import h5py\n",
    "import sys"
   ]
  },
  {
   "cell_type": "code",
   "execution_count": 2,
   "metadata": {
    "scrolled": true
   },
   "outputs": [
    {
     "name": "stdout",
     "output_type": "stream",
     "text": [
      "Escriba el valor de y00\n",
      "Escriba el valor de x05\n",
      "Escriba la cantidad de iteraciones10\n"
     ]
    }
   ],
   "source": [
    "y0 = float(input(\"Escriba el valor de y0\"))\n",
    "x0 = float(input(\"Escriba el valor de x0\"))\n",
    "n = int(input(\"Escriba la cantidad de iteraciones\"))\n"
   ]
  },
  {
   "cell_type": "code",
   "execution_count": 3,
   "metadata": {},
   "outputs": [],
   "source": [
    "def Euler(n,y0,x0):\n",
    "    MQ = np.zeros((n, 3))\n",
    "    h = 1/n\n",
    "    y = np.zeros(n)\n",
    "    x = np.zeros(n)\n",
    "    y[0] = y0\n",
    "    x[0] = x0\n",
    "    for i in range(0, n-1):\n",
    "        x[i+1] = x[i] + h;\n",
    "        y[i+1] = y[i] + h*((3*(x[i])) - (2*(y[i])))\n",
    "    for i in range(0, n):\n",
    "        print(i ,y[i], x[i])\n",
    "        MQ[i, 0] = i\n",
    "        MQ[i, 1] = y[i]\n",
    "        MQ[i, 2] = x[i]\n",
    "        \n",
    "    return MQ\n"
   ]
  },
  {
   "cell_type": "code",
   "execution_count": 4,
   "metadata": {},
   "outputs": [
    {
     "name": "stdout",
     "output_type": "stream",
     "text": [
      "0 0.0 5.0\n",
      "1 1.5 5.1\n",
      "2 2.73 5.199999999999999\n",
      "3 3.7439999999999998 5.299999999999999\n",
      "4 4.5851999999999995 5.399999999999999\n",
      "5 5.2881599999999995 5.499999999999998\n",
      "6 5.880527999999999 5.599999999999998\n",
      "7 6.384422399999998 5.6999999999999975\n",
      "8 6.817537919999998 5.799999999999997\n",
      "9 7.194030335999997 5.899999999999997\n"
     ]
    }
   ],
   "source": [
    "a = Euler(n, y0, x0)"
   ]
  },
  {
   "cell_type": "code",
   "execution_count": 5,
   "metadata": {},
   "outputs": [
    {
     "data": {
      "text/plain": [
       "array([[0.        , 0.        , 5.        ],\n",
       "       [1.        , 1.5       , 5.1       ],\n",
       "       [2.        , 2.73      , 5.2       ],\n",
       "       [3.        , 3.744     , 5.3       ],\n",
       "       [4.        , 4.5852    , 5.4       ],\n",
       "       [5.        , 5.28816   , 5.5       ],\n",
       "       [6.        , 5.880528  , 5.6       ],\n",
       "       [7.        , 6.3844224 , 5.7       ],\n",
       "       [8.        , 6.81753792, 5.8       ],\n",
       "       [9.        , 7.19403034, 5.9       ]])"
      ]
     },
     "execution_count": 5,
     "metadata": {},
     "output_type": "execute_result"
    }
   ],
   "source": [
    "a"
   ]
  },
  {
   "cell_type": "code",
   "execution_count": 6,
   "metadata": {},
   "outputs": [],
   "source": [
    "with h5py.File('/home/david/Documentos/simulacion/Jupiter/deberes/euler/test1.h5', 'w') as hdf:\n",
    "    hdf.create_dataset('dataset1', data=a)"
   ]
  },
  {
   "cell_type": "code",
   "execution_count": null,
   "metadata": {
    "scrolled": true
   },
   "outputs": [],
   "source": []
  },
  {
   "cell_type": "code",
   "execution_count": null,
   "metadata": {},
   "outputs": [],
   "source": []
  }
 ],
 "metadata": {
  "kernelspec": {
   "display_name": "Python 3",
   "language": "python",
   "name": "python3"
  },
  "language_info": {
   "codemirror_mode": {
    "name": "ipython",
    "version": 3
   },
   "file_extension": ".py",
   "mimetype": "text/x-python",
   "name": "python",
   "nbconvert_exporter": "python",
   "pygments_lexer": "ipython3",
   "version": "3.8.2"
  }
 },
 "nbformat": 4,
 "nbformat_minor": 4
}

{
 "cells": [
  {
   "cell_type": "code",
   "execution_count": 13,
   "metadata": {},
   "outputs": [],
   "source": [
    "import pandas as pd\n",
    "import numpy as np"
   ]
  },
  {
   "cell_type": "code",
   "execution_count": 14,
   "metadata": {},
   "outputs": [],
   "source": [
    "df = pd.read_csv('ejm1.csv')"
   ]
  },
  {
   "cell_type": "code",
   "execution_count": 15,
   "metadata": {},
   "outputs": [],
   "source": [
    "array =np.asarray(df)"
   ]
  },
  {
   "cell_type": "code",
   "execution_count": 16,
   "metadata": {
    "tags": []
   },
   "outputs": [
    {
     "name": "stdout",
     "output_type": "stream",
     "text": [
      "N =  100\n",
      "Media =  49.07\n",
      "Desviacion Standar =  29.931657846068955\n",
      "MInimo =  [1]\n",
      "Maximo =  [99]\n"
     ]
    }
   ],
   "source": [
    "#N poblacion\n",
    "n=100\n",
    "print('N = ',n)\n",
    "#Media\n",
    "media = df[\"a\"].mean()\n",
    "print('Media = ',media)\n",
    "#desviacion Standar\n",
    "des = (df[\"a\"].std())\n",
    "print('Desviacion Standar = ',des)\n",
    "#Minimo\n",
    "mini = min(array)\n",
    "print('MInimo = ',mini)\n",
    "#Maximo\n",
    "maxi = max(array)\n",
    "print('Maximo = ',maxi)\n",
    "alfa = 0.5\n"
   ]
  },
  {
   "cell_type": "code",
   "execution_count": 17,
   "metadata": {},
   "outputs": [
    {
     "data": {
      "text/plain": [
       "count    100.000000\n",
       "mean      49.070000\n",
       "std       29.931658\n",
       "min        1.000000\n",
       "25%       20.500000\n",
       "50%       50.000000\n",
       "75%       76.000000\n",
       "max       99.000000\n",
       "Name: a, dtype: float64"
      ]
     },
     "execution_count": 17,
     "metadata": {},
     "output_type": "execute_result"
    }
   ],
   "source": [
    "df['a'].describe()"
   ]
  },
  {
   "cell_type": "code",
   "execution_count": 28,
   "metadata": {
    "scrolled": false,
    "tags": []
   },
   "outputs": [
    {
     "name": "stdout",
     "output_type": "stream",
     "text": [
      "['-', '-', '+', '+', '+', '-', '-', '+', '+', '-', '-', '+', '-', '+', '+', '-', '-', '-', '+', '+', '+', '+', '-', '+', '-', '-', '-', '-', '-', '-', '+', '-', '+', '-', '+', '+', '-', '-', '-', '-', '+', '+', '+', '-', '+', '+', '-', '+', '+', '+', '-', '-', '-', '-', '-', '+', '-', '+', '-', '-', '+', '+', '-', '+', '-', '-', '-', '+', '+', '-', '+', '-', '-', '+', '+', '+', '+', '-', '-', '+', '-', '+', '-', '+', '+', '+', '+', '-', '-', '+', '-', '-', '+', '+', '+', '+', '+', '-', '-', '+']\n"
     ]
    }
   ],
   "source": [
    "#print(\"Numero\",\"Numeros_cal\",\"media\")\n",
    "aux_mas = 0\n",
    "aux_menos = 0\n",
    "rachas =[]\n",
    "for i in range(0,len(df)):\n",
    "    if (array[i] >= media):\n",
    "        aux_mas = aux_mas + 1\n",
    "        #print(array[a], media,\"+\")\n",
    "        rachas.append('+')\n",
    "    else:\n",
    "        aux_menos = aux_menos + 1\n",
    "        #print(array[i],  media,\"-\")\n",
    "        rachas.append('-')\n",
    "        \n",
    "\n",
    "        #print(aux_mas)\n",
    "#print(aux_menos)\n",
    "print(rachas)\n",
    "#rachas.count()"
   ]
  },
  {
   "cell_type": "code",
   "execution_count": 19,
   "metadata": {},
   "outputs": [],
   "source": [
    "A=len(rachas)"
   ]
  },
  {
   "cell_type": "code",
   "execution_count": 20,
   "metadata": {
    "tags": []
   },
   "outputs": [
    {
     "name": "stdout",
     "output_type": "stream",
     "text": [
      "100\n"
     ]
    }
   ],
   "source": [
    "print(A)"
   ]
  },
  {
   "cell_type": "code",
   "execution_count": 29,
   "metadata": {
    "tags": []
   },
   "outputs": [
    {
     "name": "stdout",
     "output_type": "stream",
     "text": [
      "Rachas mas:  [3, 2, 1, 2, 4, 1, 1, 1, 2, 3, 2, 3, 1, 1, 2, 1, 2, 1, 4, 1, 1, 4, 1, 5]\n",
      "Rachas menos:  [2, 2, 2, 1, 3, 1, 6, 1, 1, 4, 1, 1, 5, 1, 2, 1, 3, 1, 2, 2, 1, 1, 2, 2, 2]\n"
     ]
    }
   ],
   "source": [
    "cont_menos = 0\n",
    "cont_mas = 0\n",
    "aux_rachas_mas = []\n",
    "aux_rachas_menos = []\n",
    "\n",
    "for i in range(0,len(df)):\n",
    "    if rachas[i] == \"-\":\n",
    "        cont_menos = cont_menos + 1\n",
    "       # if i < 99:\n",
    "        if rachas[i + 1] == \"+\":\n",
    "                aux_rachas_menos.append(cont_menos)\n",
    "                cont_menos = 0        \n",
    "    else:\n",
    "        cont_mas = cont_mas + 1\n",
    "        #print(i)\n",
    "        if i + 1 < 100:\n",
    "            if (rachas[i + 1] == \"-\"):\n",
    "                aux_rachas_mas.append(cont_mas)\n",
    "                cont_mas = 0\n",
    "        \n",
    "\n",
    "print(\"Rachas mas: \",aux_rachas_mas)\n",
    "print(\"Rachas menos: \",aux_rachas_menos)"
   ]
  },
  {
   "cell_type": "code",
   "execution_count": 4,
   "metadata": {
    "tags": []
   },
   "outputs": [
    {
     "ename": "NameError",
     "evalue": "name 'aux_rachas_mas' is not defined",
     "output_type": "error",
     "traceback": [
      "\u001b[0;31m---------------------------------------------------------------------------\u001b[0m",
      "\u001b[0;31mNameError\u001b[0m                                 Traceback (most recent call last)",
      "\u001b[0;32m<ipython-input-4-a903ead2df07>\u001b[0m in \u001b[0;36m<module>\u001b[0;34m\u001b[0m\n\u001b[0;32m----> 1\u001b[0;31m \u001b[0mprint\u001b[0m\u001b[0;34m(\u001b[0m\u001b[0mlen\u001b[0m\u001b[0;34m(\u001b[0m\u001b[0maux_rachas_mas\u001b[0m\u001b[0;34m)\u001b[0m\u001b[0;34m)\u001b[0m\u001b[0;34m\u001b[0m\u001b[0;34m\u001b[0m\u001b[0m\n\u001b[0m\u001b[1;32m      2\u001b[0m \u001b[0mprint\u001b[0m\u001b[0;34m(\u001b[0m\u001b[0mlen\u001b[0m\u001b[0;34m(\u001b[0m\u001b[0maux_rachas_menos\u001b[0m\u001b[0;34m)\u001b[0m\u001b[0;34m)\u001b[0m\u001b[0;34m\u001b[0m\u001b[0;34m\u001b[0m\u001b[0m\n",
      "\u001b[0;31mNameError\u001b[0m: name 'aux_rachas_mas' is not defined"
     ]
    }
   ],
   "source": [
    "print(len(aux_rachas_mas))\n",
    "print(len(aux_rachas_menos))"
   ]
  },
  {
   "cell_type": "code",
   "execution_count": 23,
   "metadata": {
    "tags": []
   },
   "outputs": [
    {
     "name": "stdout",
     "output_type": "stream",
     "text": [
      "Rachas positivas\n"
     ]
    },
    {
     "data": {
      "text/plain": [
       "[1, 2, 3, 4, 5]"
      ]
     },
     "execution_count": 23,
     "metadata": {},
     "output_type": "execute_result"
    }
   ],
   "source": [
    "#Rachas positivas\n",
    "print(\"Rachas positivas\")\n",
    "list(set(aux_rachas_mas))"
   ]
  },
  {
   "cell_type": "code",
   "execution_count": 24,
   "metadata": {
    "tags": []
   },
   "outputs": [
    {
     "name": "stdout",
     "output_type": "stream",
     "text": [
      "Rachas Negativas\n"
     ]
    },
    {
     "data": {
      "text/plain": [
       "[1, 2, 3, 4, 5, 6]"
      ]
     },
     "execution_count": 24,
     "metadata": {},
     "output_type": "execute_result"
    }
   ],
   "source": [
    "#Rachas negativas\n",
    "print(\"Rachas Negativas\")\n",
    "list(set(aux_rachas_menos))"
   ]
  },
  {
   "cell_type": "markdown",
   "metadata": {},
   "source": [
    "Total de rachas"
   ]
  },
  {
   "cell_type": "code",
   "execution_count": 3,
   "metadata": {
    "tags": []
   },
   "outputs": [
    {
     "ename": "NameError",
     "evalue": "name 'aux_rachas_mas' is not defined",
     "output_type": "error",
     "traceback": [
      "\u001b[0;31m---------------------------------------------------------------------------\u001b[0m",
      "\u001b[0;31mNameError\u001b[0m                                 Traceback (most recent call last)",
      "\u001b[0;32m<ipython-input-3-1e76ecc79c94>\u001b[0m in \u001b[0;36m<module>\u001b[0;34m\u001b[0m\n\u001b[1;32m      1\u001b[0m \u001b[0;31m#total de rachas\u001b[0m\u001b[0;34m\u001b[0m\u001b[0;34m\u001b[0m\u001b[0;34m\u001b[0m\u001b[0m\n\u001b[0;32m----> 2\u001b[0;31m \u001b[0ma\u001b[0m \u001b[0;34m=\u001b[0m \u001b[0mlen\u001b[0m\u001b[0;34m(\u001b[0m\u001b[0mlist\u001b[0m\u001b[0;34m(\u001b[0m\u001b[0mset\u001b[0m\u001b[0;34m(\u001b[0m\u001b[0maux_rachas_mas\u001b[0m\u001b[0;34m)\u001b[0m\u001b[0;34m)\u001b[0m\u001b[0;34m)\u001b[0m\u001b[0;34m+\u001b[0m\u001b[0mlen\u001b[0m\u001b[0;34m(\u001b[0m\u001b[0mlist\u001b[0m\u001b[0;34m(\u001b[0m\u001b[0mset\u001b[0m\u001b[0;34m(\u001b[0m\u001b[0maux_rachas_menos\u001b[0m\u001b[0;34m)\u001b[0m\u001b[0;34m)\u001b[0m\u001b[0;34m)\u001b[0m\u001b[0;34m\u001b[0m\u001b[0;34m\u001b[0m\u001b[0m\n\u001b[0m\u001b[1;32m      3\u001b[0m \u001b[0mprint\u001b[0m\u001b[0;34m(\u001b[0m\u001b[0;34m\"Total\"\u001b[0m\u001b[0;34m,\u001b[0m\u001b[0ma\u001b[0m\u001b[0;34m)\u001b[0m\u001b[0;34m\u001b[0m\u001b[0;34m\u001b[0m\u001b[0m\n",
      "\u001b[0;31mNameError\u001b[0m: name 'aux_rachas_mas' is not defined"
     ]
    }
   ],
   "source": [
    "#total de rachas\n",
    "a = len(list(set(aux_rachas_mas)))+len(list(set(aux_rachas_menos)))\n",
    "print(\"Total\",a)\n"
   ]
  },
  {
   "cell_type": "code",
   "execution_count": null,
   "metadata": {},
   "outputs": [],
   "source": []
  },
  {
   "cell_type": "code",
   "execution_count": null,
   "metadata": {},
   "outputs": [],
   "source": []
  },
  {
   "cell_type": "code",
   "execution_count": null,
   "metadata": {},
   "outputs": [],
   "source": []
  },
  {
   "cell_type": "code",
   "execution_count": null,
   "metadata": {},
   "outputs": [],
   "source": []
  },
  {
   "cell_type": "code",
   "execution_count": null,
   "metadata": {},
   "outputs": [],
   "source": []
  }
 ],
 "metadata": {
  "kernelspec": {
   "display_name": "Python 3",
   "language": "python",
   "name": "python3"
  },
  "language_info": {
   "codemirror_mode": {
    "name": "ipython",
    "version": 3
   },
   "file_extension": ".py",
   "mimetype": "text/x-python",
   "name": "python",
   "nbconvert_exporter": "python",
   "pygments_lexer": "ipython3",
   "version": "3.8.2"
  }
 },
 "nbformat": 4,
 "nbformat_minor": 4
}

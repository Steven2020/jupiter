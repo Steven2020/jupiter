{
 "cells": [
  {
   "cell_type": "code",
   "execution_count": 117,
   "metadata": {},
   "outputs": [],
   "source": [
    "import numpy as np # libreria para el cálculo de vectores y matrices con funciones matemáticas de alto nivel\n",
    "import random as rnd #libreria para \n",
    "import matplotlib.pyplot as plt # libreria para generar gráficas a partir de datos contenidos en listas, vectores\n",
    "import matplotlib\n",
    "from matplotlib import colors"
   ]
  },
  {
   "cell_type": "markdown",
   "metadata": {},
   "source": [
    "Definición de variables"
   ]
  },
  {
   "cell_type": "code",
   "execution_count": 118,
   "metadata": {},
   "outputs": [],
   "source": [
    "Cara=1  #Logan\n",
    "Sello=2  #Tormenta"
   ]
  },
  {
   "cell_type": "code",
   "execution_count": 119,
   "metadata": {},
   "outputs": [],
   "source": [
    "#generador de numeros aleatorios\n",
    "def obtener_num():\n",
    "    return rnd.random()"
   ]
  },
  {
   "cell_type": "markdown",
   "metadata": {},
   "source": [
    "Función para obtener la variable"
   ]
  },
  {
   "cell_type": "code",
   "execution_count": 120,
   "metadata": {},
   "outputs": [],
   "source": [
    "def obtener_label(x): # funcion donde determinamos un rango deacuerdo al numero de variables\n",
    "    if x >0 and x<=0.50: \n",
    "        return 1 #cara\n",
    "    else:\n",
    "        return 2 # sello"
   ]
  },
  {
   "cell_type": "code",
   "execution_count": 121,
   "metadata": {},
   "outputs": [],
   "source": [
    "x = obtener_num()"
   ]
  },
  {
   "cell_type": "code",
   "execution_count": 122,
   "metadata": {},
   "outputs": [
    {
     "data": {
      "text/plain": [
       "1"
      ]
     },
     "execution_count": 122,
     "metadata": {},
     "output_type": "execute_result"
    }
   ],
   "source": [
    "obtener_label(x)"
   ]
  },
  {
   "cell_type": "markdown",
   "metadata": {},
   "source": [
    "Se crea una matriz con 0 elementos "
   ]
  },
  {
   "cell_type": "code",
   "execution_count": 155,
   "metadata": {},
   "outputs": [],
   "source": [
    "M0 = np.zeros((100,3))"
   ]
  },
  {
   "cell_type": "code",
   "execution_count": 156,
   "metadata": {},
   "outputs": [],
   "source": [
    "for i in range(100):\n",
    "    M0[i, 0] = obtener_label(obtener_num())\n",
    "    M0[i, 1] = obtener_label(obtener_num())\n",
    "    M0[i, 2] = obtener_label(obtener_num())"
   ]
  },
  {
   "cell_type": "code",
   "execution_count": 157,
   "metadata": {},
   "outputs": [
    {
     "name": "stdout",
     "output_type": "stream",
     "text": [
      "gana tormenta Credits 66, Prob: 0.66\n",
      "Gana tormenta Credits 66, Prob: 0.66\n",
      "Pierde logan Credits 34, Prob: 0.34\n"
     ]
    }
   ],
   "source": [
    "cara2=0 #logan\n",
    "sello2=0 #tormenta\n",
    "for i in range(100):\n",
    "        \n",
    "    if M0[i, 0] == 1 and M0[i, 2] == 1 or M0[i,0] == 1 and M0 [i,2] == 1 or M0[i, 1] == 1 and M0[i, 2] ==1: #comparacion de matrizes\n",
    "        cara2 = cara2 +1\n",
    "    else:\n",
    "        sello2 = sello2+1    \n",
    "        \n",
    "if cara2 > sello2:\n",
    "            print(\"Ganador logan Credits %s, Prob: %s\" % (cara2,cara2/100))\n",
    "            print(\"pierde tormenta Credits %s, Prob: %s\" % (sello2,sello2/100))\n",
    "else:\n",
    "            print(\"gana tormenta Credits %s, Prob: %s\" % (sello2,sello2/100))  \n",
    "\n",
    "if sello2>cara2:\n",
    "            print(\"Gana tormenta Credits %s, Prob: %s\" % (sello2,sello2/100))\n",
    "            print(\"Pierde logan Credits %s, Prob: %s\" % (cara2,cara2/100))\n",
    "else:\n",
    "            print(\"gana logan Credits %s, Prob: %s\" % (sello2,sello2/100))"
   ]
  },
  {
   "cell_type": "code",
   "execution_count": 158,
   "metadata": {},
   "outputs": [
    {
     "data": {
      "image/png": "[encoded data removed]",
      "text/plain": [
       "<Figure size 432x288 with 1 Axes>"
      ]
     },
     "metadata": {
      "needs_background": "light"
     },
     "output_type": "display_data"
    },
    {
     "name": "stdout",
     "output_type": "stream",
     "text": [
      "Azul: gano\n",
      "rojo: perdio\n"
     ]
    }
   ],
   "source": [
    "#Graficacion de barras \n",
    "fig, ax = plt.subplots()\n",
    "\n",
    "car2 = [ [cara2], [sello2] ]\n",
    "    \n",
    "Xs = np.arange(1) \n",
    "plt.bar(Xs + 0.00, car2[0], color = \"r\", width = 0.50)\n",
    "plt.bar(Xs + 0.25, car2[1], color = \"b\", width = 0.50)\n",
    "plt.xticks(Xs+0.10, [\"50\"])\n",
    "ax.set_title('Porcentaje de ganador VS perdedor')\n",
    "ax.set_ylabel('Porcentaje')\n",
    "ax.set_xlabel('Jugadores')\n",
    "plt.plot(x, x,'r', label='Logan')\n",
    "plt.plot(x, x**2,'b', label='Tormenta')\n",
    "plt.legend()\n",
    "plt.show()\n",
    "print(\"Azul: gano\")\n",
    "print(\"rojo: perdio\")"
   ]
  },
  {
   "cell_type": "markdown",
   "metadata": {},
   "source": [
    "Evaluación de iteraciones"
   ]
  },
  {
   "cell_type": "code",
   "execution_count": 159,
   "metadata": {},
   "outputs": [],
   "source": [
    "M0 = np.zeros((50,3))"
   ]
  },
  {
   "cell_type": "code",
   "execution_count": 160,
   "metadata": {},
   "outputs": [],
   "source": [
    "for i in range(50):\n",
    "    M0[i, 0] = obtener_label(obtener_num())\n",
    "    M0[i, 1] = obtener_label(obtener_num())\n",
    "    M0[i, 2] = obtener_label(obtener_num())"
   ]
  },
  {
   "cell_type": "code",
   "execution_count": 161,
   "metadata": {},
   "outputs": [
    {
     "name": "stdout",
     "output_type": "stream",
     "text": [
      "gana tormenta Credits 32, Prob: 0.64\n",
      "Gana tormenta Credits 32, Prob: 0.64\n",
      "Pierde logan Credits 18, Prob: 0.36\n",
      "nadie gana Credits 32, Prob: 0.64\n"
     ]
    }
   ],
   "source": [
    "cara=0 #Logan\n",
    "sello=0 #Tormenta\n",
    "for i in range(50):\n",
    "        \n",
    "    if M0[i, 0] == 1 and M0[i, 2] == 1 or M0[i,0] == 1 and M0 [i,2] == 1 or M0[i, 1] == 1 and M0[i, 2] ==1: #comparacion de matrizes\n",
    "        cara = cara +1\n",
    "    else:\n",
    "        sello = sello+1    \n",
    "        \n",
    "if cara > sello:\n",
    "            print(\"Ganador logan Credits %s, Prob: %s\" % (cara,cara/50))\n",
    "            print(\"pierde tormenta Credits %s, Prob: %s\" % (sello,sello/50))\n",
    "else:\n",
    "            print(\"gana tormenta Credits %s, Prob: %s\" % (sello,sello/50))  \n",
    "\n",
    "if sello>cara:\n",
    "            print(\"Gana tormenta Credits %s, Prob: %s\" % (sello,sello/50))\n",
    "            print(\"Pierde logan Credits %s, Prob: %s\" % (cara,cara/50))\n",
    "else:\n",
    "            print(\"gana logan Credits %s, Prob: %s\" % (sello,sello/50))\n",
    "        \n",
    "if sello == cara:\n",
    "            print(\"empate Credits %s, Prob: %s\" % (sello,sello/50))\n",
    "            print(\"empaten Credits %s, Prob: %s\" % (cara,cara/50))\n",
    "else:\n",
    "            print(\"nadie gana Credits %s, Prob: %s\" % (sello,sello/50))"
   ]
  },
  {
   "cell_type": "code",
   "execution_count": 162,
   "metadata": {},
   "outputs": [
    {
     "data": {
      "image/png": "[encoded data removed]",
      "text/plain": [
       "<Figure size 432x288 with 1 Axes>"
      ]
     },
     "metadata": {
      "needs_background": "light"
     },
     "output_type": "display_data"
    },
    {
     "name": "stdout",
     "output_type": "stream",
     "text": [
      "Azul: gano\n",
      "rojo: perdio\n"
     ]
    }
   ],
   "source": [
    "#Graficacion de barras \n",
    "fig, ax = plt.subplots()\n",
    "\n",
    "car = [ [cara], [sello] ]\n",
    "    \n",
    "Xs = np.arange(1) \n",
    "plt.bar(Xs + 0.00, car[0], color = \"r\", width = 0.50)\n",
    "plt.bar(Xs + 0.25, car[1], color = \"b\", width = 0.50)\n",
    "plt.xticks(Xs+0.10, [\"50\"])\n",
    "ax.set_title('Porcentaje de ganador VS perdedor')\n",
    "ax.set_ylabel('Porcentaje')\n",
    "ax.set_xlabel('Jugadores')\n",
    "plt.plot(x, x,'r', label='Logan')\n",
    "plt.plot(x, x**2,'b', label='Tormenta')\n",
    "plt.legend()\n",
    "plt.show()\n",
    "print(\"Azul: gano\")\n",
    "print(\"rojo: perdio\")"
   ]
  },
  {
   "cell_type": "code",
   "execution_count": 168,
   "metadata": {},
   "outputs": [],
   "source": [
    "M0 = np.zeros((150,3))"
   ]
  },
  {
   "cell_type": "code",
   "execution_count": 169,
   "metadata": {},
   "outputs": [],
   "source": [
    "for i in range(150):\n",
    "    M0[i, 0] = obtener_label(obtener_num())\n",
    "    M0[i, 1] = obtener_label(obtener_num())\n",
    "    M0[i, 2] = obtener_label(obtener_num())"
   ]
  },
  {
   "cell_type": "code",
   "execution_count": 170,
   "metadata": {},
   "outputs": [
    {
     "name": "stdout",
     "output_type": "stream",
     "text": [
      "Ganador logan Credits 18, Prob: 0.12\n",
      "pierde tormenta Credits 32, Prob: 0.21333333333333335\n",
      "gana logan Credits 32, Prob: 0.21333333333333335\n"
     ]
    }
   ],
   "source": [
    "cara3=0\n",
    "sello3=0\n",
    "for i in range(150):\n",
    "        \n",
    "    if M0[i, 0] == 1 and M0[i, 2] == 1 or M0[i,0] == 1 and M0 [i,2] == 1 or M0[i, 1] == 1 and M0[i, 2] ==1: #comparacion de matrizes\n",
    "        sello3 = sello3+1\n",
    "    else:\n",
    "        cara3 = cara3 +1  \n",
    "        \n",
    "if cara3 > sello3:\n",
    "            print(\"Ganador logan Credits %s, Prob: %s\" % (cara,cara/150))\n",
    "            print(\"pierde tormenta Credits %s, Prob: %s\" % (sello,sello/150))\n",
    "else:\n",
    "            print(\"gana tormenta Credits %s, Prob: %s\" % (sello,sello/150))  \n",
    "\n",
    "if sello3>cara3:\n",
    "            print(\"Gana tormenta Credits %s, Prob: %s\" % (sello,sello/150))\n",
    "            print(\"Pierde logan Credits %s, Prob: %s\" % (cara,cara/150))\n",
    "else:\n",
    "            print(\"gana logan Credits %s, Prob: %s\" % (sello,sello/150))"
   ]
  },
  {
   "cell_type": "code",
   "execution_count": 173,
   "metadata": {},
   "outputs": [
    {
     "data": {
      "image/png": "[encoded data removed]",
      "text/plain": [
       "<Figure size 432x288 with 1 Axes>"
      ]
     },
     "metadata": {
      "needs_background": "light"
     },
     "output_type": "display_data"
    },
    {
     "name": "stdout",
     "output_type": "stream",
     "text": [
      "Azul: perdio\n",
      "Rojo: gano\n"
     ]
    }
   ],
   "source": [
    "#Graficacion de barras \n",
    "fig, ax = plt.subplots()\n",
    "\n",
    "car3 = [ [cara3], [sello3] ]\n",
    "    \n",
    "Xs = np.arange(1) \n",
    "plt.bar(Xs + 0.00, car3[0], color = \"r\", width = 0.50)\n",
    "plt.bar(Xs + 0.25, car3[1], color = \"b\", width = 0.50)\n",
    "plt.xticks(Xs+0.10, [\"50\"])\n",
    "ax.set_title('Porcentaje de ganador VS perdedor')\n",
    "ax.set_ylabel('Porcentaje')\n",
    "ax.set_xlabel('Jugadores')\n",
    "plt.plot(x, x,'r', label='Logan')\n",
    "plt.plot(x, x**2,'b', label='Tormenta')\n",
    "plt.legend()\n",
    "plt.show()\n",
    "print(\"Azul: perdio\")\n",
    "print(\"Rojo: gano\")"
   ]
  },
  {
   "cell_type": "code",
   "execution_count": null,
   "metadata": {},
   "outputs": [],
   "source": []
  },
  {
   "cell_type": "code",
   "execution_count": null,
   "metadata": {},
   "outputs": [],
   "source": []
  }
 ],
 "metadata": {
  "kernelspec": {
   "display_name": "Python 3",
   "language": "python",
   "name": "python3"
  },
  "language_info": {
   "codemirror_mode": {
    "name": "ipython",
    "version": 3
   },
   "file_extension": ".py",
   "mimetype": "text/x-python",
   "name": "python",
   "nbconvert_exporter": "python",
   "pygments_lexer": "ipython3",
   "version": "3.8.2"
  }
 },
 "nbformat": 4,
 "nbformat_minor": 4
}

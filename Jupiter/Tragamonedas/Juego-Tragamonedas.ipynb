{
 "cells": [
  {
   "cell_type": "code",
   "execution_count": 1,
   "metadata": {},
   "outputs": [],
   "source": [
    "import pandas as pd\n",
    "import numpy as np\n",
    "import random as rnf"
   ]
  },
  {
   "cell_type": "code",
   "execution_count": 2,
   "metadata": {},
   "outputs": [],
   "source": [
    "#brics = pd.DataFrame(dict)\n",
    "#print(brics)\n",
    "#c1 = '7'\n",
    "#c2 = 'B'\n",
    "#c3 = 'L'\n",
    "#c4 = 'N'\n",
    "#c5 = 'U'"
   ]
  },
  {
   "cell_type": "code",
   "execution_count": 15,
   "metadata": {},
   "outputs": [],
   "source": [
    "c1 = 1 #siete\n",
    "c2 = 2 #bar\n",
    "c3 = 3 #limon\n",
    "c4 = 4 #naranja\n",
    "c5 = 5 #uva"
   ]
  },
  {
   "cell_type": "code",
   "execution_count": 16,
   "metadata": {},
   "outputs": [],
   "source": [
    "size_sample = 50"
   ]
  },
  {
   "cell_type": "code",
   "execution_count": 17,
   "metadata": {},
   "outputs": [],
   "source": [
    "def gen_num():\n",
    "    return rnf.random()"
   ]
  },
  {
   "cell_type": "code",
   "execution_count": 18,
   "metadata": {},
   "outputs": [],
   "source": [
    "def get_label(x):\n",
    "    if x>0 and x <= 0.20:\n",
    "        return c1\n",
    "    if x>0.20 and x <= 0.20:\n",
    "        return c2\n",
    "    if x>0.40 and x <= 0.60:\n",
    "        return c3\n",
    "    if x>0.60 and x <= 0.80:\n",
    "        return c4\n",
    "    else:\n",
    "        return c5"
   ]
  },
  {
   "cell_type": "code",
   "execution_count": 23,
   "metadata": {},
   "outputs": [
    {
     "data": {
      "text/plain": [
       "4"
      ]
     },
     "execution_count": 23,
     "metadata": {},
     "output_type": "execute_result"
    }
   ],
   "source": [
    "x = gen_num()\n",
    "get_label(x)"
   ]
  },
  {
   "cell_type": "code",
   "execution_count": 20,
   "metadata": {},
   "outputs": [],
   "source": [
    "#se crea una matriz con elemnetos a cero \n",
    "MQ = np.zeros((size_sample, 3))"
   ]
  },
  {
   "cell_type": "code",
   "execution_count": 21,
   "metadata": {},
   "outputs": [
    {
     "data": {
      "text/plain": [
       "array([[3., 1., 5.],\n",
       "       [5., 1., 4.],\n",
       "       [5., 4., 3.],\n",
       "       [4., 4., 5.],\n",
       "       [1., 5., 1.],\n",
       "       [1., 1., 4.],\n",
       "       [4., 4., 5.],\n",
       "       [1., 5., 5.],\n",
       "       [5., 5., 1.],\n",
       "       [5., 5., 1.],\n",
       "       [5., 1., 4.],\n",
       "       [4., 3., 1.],\n",
       "       [3., 4., 5.],\n",
       "       [5., 5., 5.],\n",
       "       [4., 5., 4.],\n",
       "       [4., 5., 4.],\n",
       "       [3., 1., 5.],\n",
       "       [4., 1., 5.],\n",
       "       [4., 3., 3.],\n",
       "       [5., 4., 5.],\n",
       "       [1., 4., 1.],\n",
       "       [4., 3., 5.],\n",
       "       [1., 3., 1.],\n",
       "       [1., 5., 5.],\n",
       "       [3., 5., 1.],\n",
       "       [5., 5., 5.],\n",
       "       [5., 1., 4.],\n",
       "       [4., 5., 4.],\n",
       "       [1., 1., 4.],\n",
       "       [3., 5., 5.],\n",
       "       [1., 3., 1.],\n",
       "       [5., 4., 1.],\n",
       "       [4., 3., 3.],\n",
       "       [5., 4., 5.],\n",
       "       [3., 5., 3.],\n",
       "       [1., 1., 3.],\n",
       "       [5., 4., 3.],\n",
       "       [1., 1., 5.],\n",
       "       [3., 1., 3.],\n",
       "       [1., 3., 5.],\n",
       "       [1., 5., 5.],\n",
       "       [1., 5., 5.],\n",
       "       [4., 4., 4.],\n",
       "       [5., 5., 5.],\n",
       "       [5., 4., 1.],\n",
       "       [1., 1., 5.],\n",
       "       [3., 3., 3.],\n",
       "       [3., 1., 4.],\n",
       "       [1., 3., 3.],\n",
       "       [5., 5., 5.]])"
      ]
     },
     "execution_count": 21,
     "metadata": {},
     "output_type": "execute_result"
    }
   ],
   "source": [
    "for i in range(size_sample):\n",
    "    for j in range(3):\n",
    "        MQ[i,j] = get_label(gen_num())\n",
    "MQ"
   ]
  },
  {
   "cell_type": "code",
   "execution_count": 10,
   "metadata": {},
   "outputs": [],
   "source": [
    "#EVALUACION DE ITERACIONES\n",
    "win10c = 1\n",
    "win5c = 0\n",
    "loss = 0"
   ]
  },
  {
   "cell_type": "code",
   "execution_count": 11,
   "metadata": {},
   "outputs": [],
   "source": [
    "for i in range(size_sample):\n",
    "    if MQ[i,0] == MQ[i, 1] and MQ[i, 2]:\n",
    "        win10c = win10c + 1\n",
    "    elif MQ[i, 0] == MQ[i, 1] or MQ[i, 1] == MQ[i, 2] or MQ[i, 0] == MQ[i, 2]:\n",
    "        win5c = win5c + 1\n",
    "    else:\n",
    "        loss = loss + 1"
   ]
  },
  {
   "cell_type": "code",
   "execution_count": 12,
   "metadata": {},
   "outputs": [
    {
     "name": "stdout",
     "output_type": "stream",
     "text": [
      "win 10 Creditos 13, Prob 0.26\n",
      "win 5 Creditos 22, Prob 0.44\n",
      "loss Creditos 16, Prob 0.32\n"
     ]
    }
   ],
   "source": [
    "print(\"win 10 Creditos %s, Prob %s\" %(win10c,win10c/size_sample))\n",
    "print(\"win 5 Creditos %s, Prob %s\" %(win5c,win5c/size_sample))\n",
    "print(\"loss Creditos %s, Prob %s\"%(loss,loss/size_sample))"
   ]
  },
  {
   "cell_type": "code",
   "execution_count": null,
   "metadata": {},
   "outputs": [],
   "source": []
  }
 ],
 "metadata": {
  "kernelspec": {
   "display_name": "Python 3",
   "language": "python",
   "name": "python3"
  },
  "language_info": {
   "codemirror_mode": {
    "name": "ipython",
    "version": 3
   },
   "file_extension": ".py",
   "mimetype": "text/x-python",
   "name": "python",
   "nbconvert_exporter": "python",
   "pygments_lexer": "ipython3",
   "version": "3.8.2"
  }
 },
 "nbformat": 4,
 "nbformat_minor": 4
}
